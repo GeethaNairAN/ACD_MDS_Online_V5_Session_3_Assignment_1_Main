{
 "cells": [
  {
   "cell_type": "code",
   "execution_count": 1,
   "metadata": {},
   "outputs": [
    {
     "name": "stdout",
     "output_type": "stream",
     "text": [
      "Result of myreduce() function is  252\n",
      "Result of Python builtin function Reduce is  252\n"
     ]
    }
   ],
   "source": [
    "#Python program to implement myreduce() function that works like Python's builtin function reduce().\n",
    "#Let 'listr' be the list to be reduced.\n",
    "\n",
    "# The below function is to add the numbers of the list. \n",
    "\n",
    "def myreduce(listr):\n",
    "    sum=listr[0] + listr[1]           # Add the first and the second elements of the list passed to the sum. \n",
    "    listlen=len(listr)                # Calculate the length of the list  \n",
    "    for i in range(2,listlen):\n",
    "        sum = sum + listr[i]          # Add the previous value of sum to the next element. \n",
    "    return sum\n",
    "\n",
    "'''Apply myreduce function to a list 'listr'. The first element and the second element will be added first. To this value, \n",
    "the other values in the list will be added '''\n",
    "\n",
    "listr = [21,15,37,44,75,60]\n",
    "print ('Result of myreduce() function is ', myreduce(listr))\n",
    "\n",
    "#Validate the result of the function above using built in reduce function from Python. The result should be the same for both. \n",
    "from functools import reduce\n",
    "print('Result of Python builtin function Reduce is ', reduce(lambda x,y:x+y, listr))\n"
   ]
  },
  {
   "cell_type": "code",
   "execution_count": 2,
   "metadata": {},
   "outputs": [
    {
     "name": "stdout",
     "output_type": "stream",
     "text": [
      "Result of myfilter() function is  [35, 80, 75]\n",
      "Result of Python builtin function Filter is  [35, 80, 75]\n"
     ]
    }
   ],
   "source": [
    "#Python program to implement myfilter() function that works like Python's builtin function filter().\n",
    "#Let 'listf' be the list to be filtered.\n",
    "\n",
    "# The below function will return all values that are divisible by 5 from the list passed. \n",
    "\n",
    "def myfilter(listf):\n",
    "    newlist=[]                         # define a new list to hold the values that satisfy the condition\n",
    "    for val in listf:\n",
    "        if val%5 == 0:                     \n",
    "            newlist.append(val)        # Append the values that are divisible by 5 to the new list\n",
    "    return newlist\n",
    "\n",
    "#Apply myfilter() function to a list 'listf'. All the values that are divisible by 5 will be returned in the result\n",
    "\n",
    "listf=[12,35,67,80,75,33,56]\n",
    "print ('Result of myfilter() function is ', myfilter(listf))\n",
    "\n",
    "#Validate the result of the function above using built in filter function from Python. The result should be the same for both. \n",
    "print('Result of Python builtin function Filter is ', list(filter(lambda x:x%5 == 0, listf)))"
   ]
  },
  {
   "cell_type": "code",
   "execution_count": 3,
   "metadata": {},
   "outputs": [
    {
     "name": "stdout",
     "output_type": "stream",
     "text": [
      "Result of first list comprehension : \n",
      "  ['A', 'C', 'A', 'D', 'G', 'I', 'L', 'D'] \n",
      "\n",
      "Result of second list comprehension : \n",
      "  ['x', 'xx', 'xxx', 'xxxx', 'y', 'yy', 'yyy', 'yyyy', 'z', 'zz', 'zzz', 'zzzz'] \n",
      "\n",
      "Result of third list comprehension : \n",
      "  ['x', 'y', 'z', 'xx', 'yy', 'zz', 'xx', 'yy', 'zz', 'xxxx', 'yyyy', 'zzzz'] \n",
      "\n",
      "Result of fourth list comprehension : \n",
      "  [[2], [3], [4], [3], [4], [5], [4], [5], [6]] \n",
      "\n",
      "Result of fourth list comprehension : \n",
      "  [[2, 3, 4, 5], [3, 4, 5, 6], [4, 5, 6, 7], [5, 6, 7, 8]] \n",
      "\n",
      "Result of fourth list comprehension : \n",
      "  [(1, 1), (2, 1), (3, 1), (1, 2), (2, 2), (3, 2), (1, 3), (2, 3), (3, 3)]\n"
     ]
    }
   ],
   "source": [
    "#List Comprehension Implementation\n",
    "\n",
    "# To produce []'A','C','A','D','G','I',’L’,‘ D’]\n",
    "word1='ACADGILD'\n",
    "listc1=[x for x in word1]\n",
    "print ('Result of first list comprehension : \\n ', listc1, '\\n')\n",
    "\n",
    "#To produce ['x', 'xx', 'xxx', 'xxxx', 'y', 'yy', 'yyy', 'yyyy', 'z', 'zz', 'zzz', 'zzzz']\n",
    "listx1=['x','y','z']\n",
    "listc2=[a*i for a in listx1 for i in range(1,5)]\n",
    "print ('Result of second list comprehension : \\n ', listc2, '\\n')\n",
    "\n",
    "#To produce ['x', 'y', 'z', 'xx', 'yy', 'zz', 'xx', 'yy', 'zz', 'xxxx', 'yyyy', 'zzzz']\n",
    "listc3=[a*i for i in [1,2,2,4] for a in listx1]\n",
    "print ('Result of third list comprehension : \\n ', listc3, '\\n')\n",
    "\n",
    "#To produce [[2], [3], [4], [3], [4], [5], [4], [5], [6]]\n",
    "listx2=[2,3,4]\n",
    "listc4=[[a+i] for i in range(3) for a in listx2]\n",
    "print ('Result of fourth list comprehension : \\n ', listc4, '\\n')\n",
    "\n",
    "#To produce [[2, 3, 4, 5], [3, 4, 5, 6], [4, 5, 6, 7], [5, 6, 7, 8]]\n",
    "listx3=[2,3,4,5]\n",
    "listc5=[[a+i for i in range(4)] for a in listx3]\n",
    "print ('Result of fourth list comprehension : \\n ', listc5, '\\n')\n",
    "\n",
    "#To produce [(1, 1), (2, 1), (3, 1), (1, 2), (2, 2), (3, 2), (1, 3), (2, 3), (3, 3)]\n",
    "listx4=[1,2,3]\n",
    "listc6=[(a,b) for b in listx4 for a in listx4]\n",
    "print ('Result of fourth list comprehension : \\n ', listc6)\n"
   ]
  },
  {
   "cell_type": "code",
   "execution_count": 4,
   "metadata": {},
   "outputs": [
    {
     "name": "stdout",
     "output_type": "stream",
     "text": [
      "Enter a Sentence : \n",
      "I am testing the longest word function\n",
      "The longest word in the list is :  function\n"
     ]
    }
   ],
   "source": [
    "# Implement a function longestWord() that takes a list of words and returns the longest one.\n",
    "\n",
    "# Use the max function to implement the function\n",
    "def longestword(listword):\n",
    "    longword=' '\n",
    "    length, longword= max([(len(wordl),wordl) for wordl in listword])\n",
    "    return longword\n",
    "\n",
    "#Accept a sentence from the user and get the list of words to be checked\n",
    "newsentence = input('Enter a Sentence : \\n')\n",
    "listword=newsentence.split()\n",
    "print ('The longest word in the list is : ', longestword(listword))"
   ]
  },
  {
   "cell_type": "code",
   "execution_count": 5,
   "metadata": {},
   "outputs": [
    {
     "name": "stdout",
     "output_type": "stream",
     "text": [
      "Enter a Sentence : \n",
      "This is another way to find the longest word\n",
      "The longest word in the list is :  another\n"
     ]
    }
   ],
   "source": [
    "# Implement a function longestWord() that takes a list of words and returns the longest one.\n",
    "\n",
    "# Use the If loop in the function to identify the longest word\n",
    "\n",
    "def longestwordf(listword):\n",
    "    longword=' '\n",
    "    for wordl in listword:\n",
    "        if len(wordl) > len(longword):\n",
    "            longword=wordl\n",
    "    return longword\n",
    "\n",
    "#Accept a sentence from the user and get the list of words to be checked\n",
    "newsentence = input('Enter a Sentence : \\n')\n",
    "listword=newsentence.split()\n",
    "print ('The longest word in the list is : ', longestwordf(listword))"
   ]
  },
  {
   "cell_type": "code",
   "execution_count": null,
   "metadata": {},
   "outputs": [],
   "source": []
  }
 ],
 "metadata": {
  "kernelspec": {
   "display_name": "Python 3",
   "language": "python",
   "name": "python3"
  },
  "language_info": {
   "codemirror_mode": {
    "name": "ipython",
    "version": 3
   },
   "file_extension": ".py",
   "mimetype": "text/x-python",
   "name": "python",
   "nbconvert_exporter": "python",
   "pygments_lexer": "ipython3",
   "version": "3.6.5"
  }
 },
 "nbformat": 4,
 "nbformat_minor": 2
}
